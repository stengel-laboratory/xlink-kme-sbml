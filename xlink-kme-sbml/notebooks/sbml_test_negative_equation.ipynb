{
 "cells": [
  {
   "cell_type": "markdown",
   "metadata": {},
   "source": [
    "# Test negative equation\n",
    "This notebook tests whether it is necessary for tellurium to specify the complete equation for a species or whether the positive side is enough.\n",
    "\n",
    "* Crosslinker => CrosslinkerMonoHydrolized; kh*Crosslinker\n",
    "\n",
    "vs\n",
    "\n",
    "* Crosslinker => CrosslinkerMonoHydrolized; kh*(Crosslinker-CrosslinkerBiHydrolized)\n",
    "\n",
    "The first option is the default. This is tested for the simple two-step reaction of crosslink hydrolysis."
   ]
  },
  {
   "cell_type": "code",
   "execution_count": 58,
   "metadata": {},
   "outputs": [],
   "source": [
    "import tellurium as te\n",
    "import pandas as pd"
   ]
  },
  {
   "cell_type": "code",
   "execution_count": 59,
   "metadata": {},
   "outputs": [],
   "source": [
    "rr_c = te.loada(\"../output/model_crosslinker_only_antimony.txt\")\n",
    "rr_cc = te.loada(\"../output/model_crosslinker_only_c_antimony.txt\")"
   ]
  },
  {
   "cell_type": "code",
   "execution_count": 60,
   "metadata": {},
   "outputs": [],
   "source": [
    "sim_time = 750000"
   ]
  },
  {
   "cell_type": "code",
   "execution_count": 61,
   "metadata": {},
   "outputs": [
    {
     "data": {
      "text/html": [
       "<div>\n",
       "<style scoped>\n",
       "    .dataframe tbody tr th:only-of-type {\n",
       "        vertical-align: middle;\n",
       "    }\n",
       "\n",
       "    .dataframe tbody tr th {\n",
       "        vertical-align: top;\n",
       "    }\n",
       "\n",
       "    .dataframe thead th {\n",
       "        text-align: right;\n",
       "    }\n",
       "</style>\n",
       "<table border=\"1\" class=\"dataframe\">\n",
       "  <thead>\n",
       "    <tr style=\"text-align: right;\">\n",
       "      <th></th>\n",
       "      <th>time</th>\n",
       "      <th>[Crosslinker]</th>\n",
       "      <th>[CrosslinkerMonoHydrolized]</th>\n",
       "      <th>[CrosslinkerBiHydrolized]</th>\n",
       "    </tr>\n",
       "  </thead>\n",
       "  <tbody>\n",
       "    <tr>\n",
       "      <th>0</th>\n",
       "      <td>0.000000</td>\n",
       "      <td>1.000000</td>\n",
       "      <td>0.000000</td>\n",
       "      <td>0.000000</td>\n",
       "    </tr>\n",
       "    <tr>\n",
       "      <th>1</th>\n",
       "      <td>150.030006</td>\n",
       "      <td>0.998501</td>\n",
       "      <td>0.001498</td>\n",
       "      <td>0.000001</td>\n",
       "    </tr>\n",
       "    <tr>\n",
       "      <th>2</th>\n",
       "      <td>300.060012</td>\n",
       "      <td>0.997004</td>\n",
       "      <td>0.002992</td>\n",
       "      <td>0.000004</td>\n",
       "    </tr>\n",
       "    <tr>\n",
       "      <th>3</th>\n",
       "      <td>450.090018</td>\n",
       "      <td>0.995509</td>\n",
       "      <td>0.004481</td>\n",
       "      <td>0.000010</td>\n",
       "    </tr>\n",
       "    <tr>\n",
       "      <th>4</th>\n",
       "      <td>600.120024</td>\n",
       "      <td>0.994017</td>\n",
       "      <td>0.005965</td>\n",
       "      <td>0.000018</td>\n",
       "    </tr>\n",
       "  </tbody>\n",
       "</table>\n",
       "</div>"
      ],
      "text/plain": [
       "         time  [Crosslinker]  [CrosslinkerMonoHydrolized]  \\\n",
       "0    0.000000       1.000000                     0.000000   \n",
       "1  150.030006       0.998501                     0.001498   \n",
       "2  300.060012       0.997004                     0.002992   \n",
       "3  450.090018       0.995509                     0.004481   \n",
       "4  600.120024       0.994017                     0.005965   \n",
       "\n",
       "   [CrosslinkerBiHydrolized]  \n",
       "0                   0.000000  \n",
       "1                   0.000001  \n",
       "2                   0.000004  \n",
       "3                   0.000010  \n",
       "4                   0.000018  "
      ]
     },
     "execution_count": 61,
     "metadata": {},
     "output_type": "execute_result"
    }
   ],
   "source": [
    "results_c = rr_c.simulate(0, sim_time, points=5000)\n",
    "df_res_c = pd.DataFrame(results_c, columns=results_c.colnames) \n",
    "df_res_c.head(5)"
   ]
  },
  {
   "cell_type": "code",
   "execution_count": 62,
   "metadata": {},
   "outputs": [
    {
     "data": {
      "text/html": [
       "<div>\n",
       "<style scoped>\n",
       "    .dataframe tbody tr th:only-of-type {\n",
       "        vertical-align: middle;\n",
       "    }\n",
       "\n",
       "    .dataframe tbody tr th {\n",
       "        vertical-align: top;\n",
       "    }\n",
       "\n",
       "    .dataframe thead th {\n",
       "        text-align: right;\n",
       "    }\n",
       "</style>\n",
       "<table border=\"1\" class=\"dataframe\">\n",
       "  <thead>\n",
       "    <tr style=\"text-align: right;\">\n",
       "      <th></th>\n",
       "      <th>time</th>\n",
       "      <th>[Crosslinker]</th>\n",
       "      <th>[CrosslinkerMonoHydrolized]</th>\n",
       "      <th>[CrosslinkerBiHydrolized]</th>\n",
       "    </tr>\n",
       "  </thead>\n",
       "  <tbody>\n",
       "    <tr>\n",
       "      <th>0</th>\n",
       "      <td>0.000000</td>\n",
       "      <td>1.000000</td>\n",
       "      <td>0.000000</td>\n",
       "      <td>0.000000</td>\n",
       "    </tr>\n",
       "    <tr>\n",
       "      <th>1</th>\n",
       "      <td>150.030006</td>\n",
       "      <td>0.998501</td>\n",
       "      <td>0.001498</td>\n",
       "      <td>0.000001</td>\n",
       "    </tr>\n",
       "    <tr>\n",
       "      <th>2</th>\n",
       "      <td>300.060012</td>\n",
       "      <td>0.997004</td>\n",
       "      <td>0.002992</td>\n",
       "      <td>0.000004</td>\n",
       "    </tr>\n",
       "    <tr>\n",
       "      <th>3</th>\n",
       "      <td>450.090018</td>\n",
       "      <td>0.995509</td>\n",
       "      <td>0.004481</td>\n",
       "      <td>0.000010</td>\n",
       "    </tr>\n",
       "    <tr>\n",
       "      <th>4</th>\n",
       "      <td>600.120024</td>\n",
       "      <td>0.994017</td>\n",
       "      <td>0.005965</td>\n",
       "      <td>0.000018</td>\n",
       "    </tr>\n",
       "  </tbody>\n",
       "</table>\n",
       "</div>"
      ],
      "text/plain": [
       "         time  [Crosslinker]  [CrosslinkerMonoHydrolized]  \\\n",
       "0    0.000000       1.000000                     0.000000   \n",
       "1  150.030006       0.998501                     0.001498   \n",
       "2  300.060012       0.997004                     0.002992   \n",
       "3  450.090018       0.995509                     0.004481   \n",
       "4  600.120024       0.994017                     0.005965   \n",
       "\n",
       "   [CrosslinkerBiHydrolized]  \n",
       "0                   0.000000  \n",
       "1                   0.000001  \n",
       "2                   0.000004  \n",
       "3                   0.000010  \n",
       "4                   0.000018  "
      ]
     },
     "execution_count": 62,
     "metadata": {},
     "output_type": "execute_result"
    }
   ],
   "source": [
    "results_cc = rr_cc.simulate(0, sim_time, points=5000)\n",
    "df_res_cc = pd.DataFrame(results_cc, columns=results_cc.colnames) \n",
    "df_res_cc.head(5)"
   ]
  },
  {
   "cell_type": "code",
   "execution_count": 63,
   "metadata": {},
   "outputs": [
    {
     "data": {
      "text/plain": [
       "<AxesSubplot:xlabel='time'>"
      ]
     },
     "execution_count": 63,
     "metadata": {},
     "output_type": "execute_result"
    },
    {
     "data": {
      "image/png": "[encoded data removed]",
      "text/plain": [
       "<Figure size 432x288 with 1 Axes>"
      ]
     },
     "metadata": {
      "needs_background": "light"
     },
     "output_type": "display_data"
    }
   ],
   "source": [
    "df_res_c.plot(x='time')"
   ]
  },
  {
   "cell_type": "code",
   "execution_count": 64,
   "metadata": {},
   "outputs": [
    {
     "data": {
      "text/plain": [
       "<AxesSubplot:xlabel='time'>"
      ]
     },
     "execution_count": 64,
     "metadata": {},
     "output_type": "execute_result"
    },
    {
     "data": {
      "image/png": "[encoded data removed]",
      "text/plain": [
       "<Figure size 432x288 with 1 Axes>"
      ]
     },
     "metadata": {
      "needs_background": "light"
     },
     "output_type": "display_data"
    }
   ],
   "source": [
    "df_res_cc.plot(x='time')"
   ]
  },
  {
   "cell_type": "markdown",
   "metadata": {},
   "source": [
    "It is obvious that it is NOT necessary to specify the negative side of the equation as it will lead to the strange result above"
   ]
  },
  {
   "cell_type": "code",
   "execution_count": null,
   "metadata": {},
   "outputs": [],
   "source": []
  }
 ],
 "metadata": {
  "kernelspec": {
   "display_name": "Python 3.8.5 64-bit ('te': conda)",
   "language": "python",
   "name": "python38564bitteconda37a26dd0c09747d890034224c9347118"
  },
  "language_info": {
   "codemirror_mode": {
    "name": "ipython",
    "version": 3
   },
   "file_extension": ".py",
   "mimetype": "text/x-python",
   "name": "python",
   "nbconvert_exporter": "python",
   "pygments_lexer": "ipython3",
   "version": "3.8.5"
  }
 },
 "nbformat": 4,
 "nbformat_minor": 4
}
