{
 "metadata": {
  "language_info": {
   "codemirror_mode": {
    "name": "ipython",
    "version": 3
   },
   "file_extension": ".py",
   "mimetype": "text/x-python",
   "name": "python",
   "nbconvert_exporter": "python",
   "pygments_lexer": "ipython3",
   "version": "3.6.9-final"
  },
  "orig_nbformat": 2,
  "kernelspec": {
   "name": "python36964bitteconda7511187c57f14020a567cc7ef7fbb377",
   "display_name": "Python 3.6.9 64-bit ('te': conda)"
  }
 },
 "nbformat": 4,
 "nbformat_minor": 2,
 "cells": [
  {
   "cell_type": "code",
   "execution_count": 22,
   "metadata": {},
   "outputs": [],
   "source": [
    "import simplesbml"
   ]
  },
  {
   "cell_type": "code",
   "execution_count": 23,
   "metadata": {},
   "outputs": [],
   "source": [
    "m = simplesbml.sbmlModel()"
   ]
  },
  {
   "cell_type": "code",
   "execution_count": 24,
   "metadata": {},
   "outputs": [
    {
     "output_type": "execute_result",
     "data": {
      "text/plain": "<tesbml.libsbml.Reaction; proxy of <Swig Object of type 'Reaction *' at 0x7f9d55c56b70> >"
     },
     "metadata": {},
     "execution_count": 24
    }
   ],
   "source": [
    "m.addSpecies('S1', 1)\n",
    "m.addSpecies('S2', 0)\n",
    "m.addParameter('k', 0.1)\n",
    "m.addReaction(['S1'], ['S2'], 'k * S1')"
   ]
  },
  {
   "cell_type": "code",
   "execution_count": 25,
   "metadata": {},
   "outputs": [
    {
     "output_type": "execute_result",
     "data": {
      "text/plain": "0"
     },
     "metadata": {},
     "execution_count": 25
    }
   ],
   "source": [
    "m.getCompartment('c1').setUnits('dimensionless')"
   ]
  },
  {
   "cell_type": "code",
   "execution_count": 26,
   "metadata": {},
   "outputs": [
    {
     "output_type": "execute_result",
     "data": {
      "text/plain": "'dimensionless'"
     },
     "metadata": {},
     "execution_count": 26
    }
   ],
   "source": [
    "m.getCompartment('c1').getUnits()"
   ]
  },
  {
   "cell_type": "code",
   "execution_count": 27,
   "metadata": {
    "tags": []
   },
   "outputs": [],
   "source": [
    "sbml = m.toSBML()"
   ]
  },
  {
   "cell_type": "code",
   "execution_count": null,
   "metadata": {},
   "outputs": [],
   "source": []
  }
 ]
}