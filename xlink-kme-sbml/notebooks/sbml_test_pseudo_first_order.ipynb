{
 "cells": [
  {
   "cell_type": "markdown",
   "metadata": {},
   "source": [
    "# Pseudo-first order comparison\n",
    "In this notebook we'll compare the results of an analytically exact solution for a competetive pseudo-first order reaction with the simulation results obtained by tellurium"
   ]
  },
  {
   "cell_type": "code",
   "execution_count": 3,
   "metadata": {},
   "outputs": [],
   "source": [
    "import tellurium as te\n",
    "import numpy as np\n",
    "import pandas as pd\n",
    "import sbml_sim_helper"
   ]
  },
  {
   "cell_type": "code",
   "execution_count": 4,
   "metadata": {},
   "outputs": [],
   "source": [
    "def get_pseudo_first_order_concentrations_implicit(t, initial_concentration_tuple, rate_constants_dict, kh=1e-05,):\n",
    "    initial_concentration = initial_concentration_tuple[1]\n",
    "    rate_constants_dict[initial_concentration_tuple[0] + '_bihydrolyzed'] = kh\n",
    "    rate_const_sum = sum(list(rate_constants_dict.values()))\n",
    "    conc_products_dict = {}\n",
    "    conc_products_dict['time'] = t \n",
    "    conc_products_dict[initial_concentration_tuple[0]] = initial_concentration * np.exp(-t*rate_const_sum)\n",
    "    for const_name, const_val in rate_constants_dict.items():\n",
    "        conc_products_dict[const_name] = const_val/rate_const_sum * initial_concentration * (1-np.exp(-t*rate_const_sum))\n",
    "    return conc_products_dict"
   ]
  },
  {
   "cell_type": "code",
   "execution_count": 5,
   "metadata": {},
   "outputs": [],
   "source": [
    "def get_pseudo_first_order_concentrations_explicit(t, initial_concentration_tuple, rate_constants_dict, kh=1e-05, kon=0.001, koff=0.1,):\n",
    "    rate_constants_dict_eff = {}\n",
    "    rate_constants_dict_eff[initial_concentration_tuple[0] + '_bihydrolyzed'] = kh\n",
    "    for k,v in rate_constants_dict.items():\n",
    "        rate_constants_dict_eff[k] = (v*kon/(v+koff))\n",
    "    initial_concentration = initial_concentration_tuple[1]\n",
    "    rate_const_sum = sum(list(rate_constants_dict_eff.values()))\n",
    "    conc_products_dict = {}\n",
    "    conc_products_dict['time'] = t \n",
    "    conc_products_dict[initial_concentration_tuple[0]] = initial_concentration * np.exp(-t*rate_const_sum)\n",
    "    for const_name, const_val in rate_constants_dict_eff.items():\n",
    "        conc_products_dict[const_name] = const_val/rate_const_sum * initial_concentration * (1-np.exp(-t*rate_const_sum))\n",
    "    return conc_products_dict"
   ]
  },
  {
   "cell_type": "code",
   "execution_count": 47,
   "metadata": {},
   "outputs": [],
   "source": [
    "def get_pseudo_first_order_constants_implicit(t, main_concentration_tuple, concentration_dict):\n",
    "    initial_concentration = main_concentration_tuple[0]\n",
    "    final_concentration = main_concentration_tuple[1]\n",
    "    #print(initial_concentration, final_concentration)\n",
    "    rate_constants_dict = {}\n",
    "    sum_species_final = np.round(sum(list(concentration_dict.values())), 7)\n",
    "    #rate_const_sum = np.log(initial_concentration/final_concentration)/t\n",
    "    rate_const_sum = np.log(initial_concentration/(initial_concentration-sum_species_final))/t\n",
    "    for species,conc in concentration_dict.items():\n",
    "        #rate_constants_dict[species] = (rate_const_sum*conc)/(initial_concentration - initial_concentration * np.exp(-t*rate_const_sum))\n",
    "        rate_constants_dict[species] = rate_const_sum*conc/sum_species_final\n",
    "    return rate_constants_dict"
   ]
  },
  {
   "cell_type": "code",
   "execution_count": 7,
   "metadata": {},
   "outputs": [],
   "source": [
    "def get_pseudo_first_order_constants_explicit(t, initial_concentration, concentration_dict):\n",
    "    rate_constants_dict = {}\n",
    "    sum_species_final = sum(list(concentration_dict.values()))\n",
    "    rate_const_sum = np.log(initial_concentration/(initial_concentration-sum_species_final))/t\n",
    "    for species,conc in concentration_dict.items():\n",
    "        rate_constants_dict[species] = (rate_const_sum*conc)/(initial_concentration - initial_concentration * np.exp(-t*rate_const_sum))\n",
    "    return rate_constants_dict"
   ]
  },
  {
   "cell_type": "code",
   "execution_count": 8,
   "metadata": {},
   "outputs": [],
   "source": [
    "def get_antimony_5ly_explicit(react_list, kh=1e-05, kon=0.001, koff=0.1, c_monolinker=5):\n",
    "    return f'''\n",
    "        CrosslinkerMonoHydrolized -> CrosslinkerBiHydrolized; kh*CrosslinkerMonoHydrolized;\n",
    "        LYS_1 + CrosslinkerMonoHydrolized -> MonoHydro_1; (klys_1*kon/(klys_1 + koff))*CrosslinkerMonoHydrolized*LYS_1;\n",
    "        LYS_2 + CrosslinkerMonoHydrolized -> MonoHydro_2; (klys_2*kon/(klys_2 + koff))*CrosslinkerMonoHydrolized*LYS_2;\n",
    "        LYS_3 + CrosslinkerMonoHydrolized -> MonoHydro_3; (klys_3*kon/(klys_3 + koff))*CrosslinkerMonoHydrolized*LYS_3;\n",
    "        LYS_4 + CrosslinkerMonoHydrolized -> MonoHydro_4; (klys_4*kon/(klys_4 + koff))*CrosslinkerMonoHydrolized*LYS_4;\n",
    "        LYS_5 + CrosslinkerMonoHydrolized -> MonoHydro_5; (klys_5*kon/(klys_5 + koff))*CrosslinkerMonoHydrolized*LYS_5;\n",
    "\n",
    "        LYS_1=1; LYS_2=1; LYS_3=1; LYS_4=1; LYS_5=1;\n",
    "        CrosslinkerMonoHydrolized={c_monolinker};\n",
    "        klys_1 = {react_list[0]};\n",
    "        klys_2 = {react_list[1]};\n",
    "        klys_3 = {react_list[2]};\n",
    "        klys_4 = {react_list[3]};\n",
    "        klys_5 = {react_list[4]};\n",
    "        kh = {kh};\n",
    "        kon = {kon}\n",
    "        koff = {koff}\n",
    "    '''"
   ]
  },
  {
   "cell_type": "code",
   "execution_count": 100,
   "metadata": {},
   "outputs": [],
   "source": [
    "def get_antimony_5ly_implicit(react_list, kh=1e-05, c_monolinker=5):\n",
    "    return f'''\n",
    "        CrosslinkerMonoHydrolized -> CrosslinkerBiHydrolized; kh*CrosslinkerMonoHydrolized;\n",
    "        LYS_1 + CrosslinkerMonoHydrolized -> MonoHydro_1; klys_1*CrosslinkerMonoHydrolized*LYS_1;\n",
    "        LYS_2 + CrosslinkerMonoHydrolized -> MonoHydro_2; klys_2*CrosslinkerMonoHydrolized*LYS_2;\n",
    "        LYS_3 + CrosslinkerMonoHydrolized -> MonoHydro_3; klys_3*CrosslinkerMonoHydrolized*LYS_3;\n",
    "        LYS_4 + CrosslinkerMonoHydrolized -> MonoHydro_4; klys_4*CrosslinkerMonoHydrolized*LYS_4;\n",
    "        LYS_5 + CrosslinkerMonoHydrolized -> MonoHydro_5; klys_5*CrosslinkerMonoHydrolized*LYS_5;\n",
    "\n",
    "        LYS_1=1; LYS_2=1; LYS_3=1; LYS_4=1; LYS_5=1;\n",
    "        CrosslinkerMonoHydrolized={c_monolinker};\n",
    "        klys_1 = {react_list[0]};\n",
    "        klys_2 = {react_list[1]};\n",
    "        klys_3 = {react_list[2]};\n",
    "        klys_4 = {react_list[3]};\n",
    "        klys_5 = {react_list[4]};\n",
    "        kh = {kh};\n",
    "    '''"
   ]
  },
  {
   "cell_type": "code",
   "execution_count": 10,
   "metadata": {},
   "outputs": [],
   "source": [
    "def get_antimony_2ly(react_list, kh=1e-05, kon=0.001, koff=0.1, c_monolinker=5):\n",
    "    return f'''\n",
    "        CrosslinkerMonoHydrolized -> CrosslinkerBiHydrolized; kh*CrosslinkerMonoHydrolized;\n",
    "        LYS_1 + CrosslinkerMonoHydrolized -> MonoHydro_1; (klys_1*kon/(klys_1 + koff))*CrosslinkerMonoHydrolized*LYS_1;\n",
    "        LYS_2 + CrosslinkerMonoHydrolized -> MonoHydro_2; (klys_2*kon/(klys_2 + koff))*CrosslinkerMonoHydrolized*LYS_2;\n",
    "\n",
    "        LYS_1=1; LYS_2=1;\n",
    "        CrosslinkerMonoHydrolized={c_monolinker};\n",
    "        klys_1 = {react_list[0]};\n",
    "        klys_2 = {react_list[1]};\n",
    "        kh = {kh};\n",
    "        kon = {kon}\n",
    "        koff = {koff}\n",
    "    '''"
   ]
  },
  {
   "cell_type": "code",
   "execution_count": 11,
   "metadata": {},
   "outputs": [],
   "source": [
    "time=1000\n",
    "c_ml = 0.5\n",
    "kh = 1e-03\n",
    "kon = 0.01\n",
    "koff = 0.1\n",
    "initial_concentration_tuple=('monolinker', c_ml)"
   ]
  },
  {
   "cell_type": "code",
   "execution_count": 12,
   "metadata": {},
   "outputs": [],
   "source": [
    "rd2 = {'M1': 0.01, 'M2': 0.08}\n",
    "l2 = list(rd2.values())"
   ]
  },
  {
   "cell_type": "code",
   "execution_count": 13,
   "metadata": {},
   "outputs": [],
   "source": [
    "res_points2 = get_pseudo_first_order_concentrations_explicit(np.arange(time+1), initial_concentration_tuple=initial_concentration_tuple, rate_constants_dict=rd2, kh=kh, kon=kon, koff=koff)\n",
    "df_res2 = pd.DataFrame(res_points2)"
   ]
  },
  {
   "cell_type": "code",
   "execution_count": 14,
   "metadata": {},
   "outputs": [
    {
     "data": {
      "text/plain": [
       "<AxesSubplot:xlabel='time'>"
      ]
     },
     "execution_count": 14,
     "metadata": {},
     "output_type": "execute_result"
    },
    {
     "data": {
      "image/png": "[encoded data removed]",
      "text/plain": [
       "<Figure size 432x288 with 1 Axes>"
      ]
     },
     "metadata": {
      "needs_background": "light"
     },
     "output_type": "display_data"
    }
   ],
   "source": [
    "df_res2.plot(x='time')"
   ]
  },
  {
   "cell_type": "code",
   "execution_count": 15,
   "metadata": {},
   "outputs": [],
   "source": [
    "rr_2lys = te.loada(get_antimony_2ly(l2, c_monolinker=c_ml, kh=kh, kon=kon, koff=koff))\n",
    "results_2lys = rr_2lys.simulate(0, time)\n",
    "df_res_2lys = pd.DataFrame(results_2lys, columns=results_2lys.colnames)"
   ]
  },
  {
   "cell_type": "code",
   "execution_count": 16,
   "metadata": {},
   "outputs": [],
   "source": [
    "klys_2lys = sbml_sim_helper.get_rr_const_dict(rr_2lys, 'klys')"
   ]
  },
  {
   "cell_type": "code",
   "execution_count": 17,
   "metadata": {},
   "outputs": [
    {
     "data": {
      "text/plain": [
       "{'klys_1': 0.01, 'klys_2': 0.08}"
      ]
     },
     "execution_count": 17,
     "metadata": {},
     "output_type": "execute_result"
    }
   ],
   "source": [
    "klys_2lys"
   ]
  },
  {
   "cell_type": "code",
   "execution_count": 18,
   "metadata": {},
   "outputs": [
    {
     "data": {
      "text/plain": [
       "<AxesSubplot:xlabel='time'>"
      ]
     },
     "execution_count": 18,
     "metadata": {},
     "output_type": "execute_result"
    },
    {
     "data": {
      "image/png": "[encoded data removed]",
      "text/plain": [
       "<Figure size 432x288 with 1 Axes>"
      ]
     },
     "metadata": {
      "needs_background": "light"
     },
     "output_type": "display_data"
    }
   ],
   "source": [
    "df_res_2lys[[col for col in df_res_2lys.columns if 'LYS' not in col]].plot('time')"
   ]
  },
  {
   "cell_type": "code",
   "execution_count": 19,
   "metadata": {},
   "outputs": [
    {
     "data": {
      "text/html": [
       "<div>\n",
       "<style scoped>\n",
       "    .dataframe tbody tr th:only-of-type {\n",
       "        vertical-align: middle;\n",
       "    }\n",
       "\n",
       "    .dataframe tbody tr th {\n",
       "        vertical-align: top;\n",
       "    }\n",
       "\n",
       "    .dataframe thead th {\n",
       "        text-align: right;\n",
       "    }\n",
       "</style>\n",
       "<table border=\"1\" class=\"dataframe\">\n",
       "  <thead>\n",
       "    <tr style=\"text-align: right;\">\n",
       "      <th></th>\n",
       "      <th>time</th>\n",
       "      <th>monolinker</th>\n",
       "      <th>monolinker_bihydrolyzed</th>\n",
       "      <th>M1</th>\n",
       "      <th>M2</th>\n",
       "    </tr>\n",
       "  </thead>\n",
       "  <tbody>\n",
       "    <tr>\n",
       "      <th>1000</th>\n",
       "      <td>1000</td>\n",
       "      <td>0.00087</td>\n",
       "      <td>0.078559</td>\n",
       "      <td>0.071418</td>\n",
       "      <td>0.349153</td>\n",
       "    </tr>\n",
       "  </tbody>\n",
       "</table>\n",
       "</div>"
      ],
      "text/plain": [
       "      time  monolinker  monolinker_bihydrolyzed        M1        M2\n",
       "1000  1000     0.00087                 0.078559  0.071418  0.349153"
      ]
     },
     "execution_count": 19,
     "metadata": {},
     "output_type": "execute_result"
    }
   ],
   "source": [
    "df_res2.tail(1)"
   ]
  },
  {
   "cell_type": "code",
   "execution_count": 20,
   "metadata": {},
   "outputs": [
    {
     "data": {
      "text/html": [
       "<div>\n",
       "<style scoped>\n",
       "    .dataframe tbody tr th:only-of-type {\n",
       "        vertical-align: middle;\n",
       "    }\n",
       "\n",
       "    .dataframe tbody tr th {\n",
       "        vertical-align: top;\n",
       "    }\n",
       "\n",
       "    .dataframe thead th {\n",
       "        text-align: right;\n",
       "    }\n",
       "</style>\n",
       "<table border=\"1\" class=\"dataframe\">\n",
       "  <thead>\n",
       "    <tr style=\"text-align: right;\">\n",
       "      <th></th>\n",
       "      <th>time</th>\n",
       "      <th>[CrosslinkerMonoHydrolized]</th>\n",
       "      <th>[CrosslinkerBiHydrolized]</th>\n",
       "      <th>[LYS_1]</th>\n",
       "      <th>[MonoHydro_1]</th>\n",
       "      <th>[LYS_2]</th>\n",
       "      <th>[MonoHydro_2]</th>\n",
       "    </tr>\n",
       "  </thead>\n",
       "  <tbody>\n",
       "    <tr>\n",
       "      <th>50</th>\n",
       "      <td>1000.0</td>\n",
       "      <td>0.003109</td>\n",
       "      <td>0.08972</td>\n",
       "      <td>0.921674</td>\n",
       "      <td>0.078326</td>\n",
       "      <td>0.671155</td>\n",
       "      <td>0.328845</td>\n",
       "    </tr>\n",
       "  </tbody>\n",
       "</table>\n",
       "</div>"
      ],
      "text/plain": [
       "      time  [CrosslinkerMonoHydrolized]  [CrosslinkerBiHydrolized]   [LYS_1]  \\\n",
       "50  1000.0                     0.003109                    0.08972  0.921674   \n",
       "\n",
       "    [MonoHydro_1]   [LYS_2]  [MonoHydro_2]  \n",
       "50       0.078326  0.671155       0.328845  "
      ]
     },
     "execution_count": 20,
     "metadata": {},
     "output_type": "execute_result"
    }
   ],
   "source": [
    "df_res_2lys.tail(1)"
   ]
  },
  {
   "cell_type": "code",
   "execution_count": 21,
   "metadata": {},
   "outputs": [],
   "source": [
    "rd5 = {'M1': 0.01, 'M2': 0.03, 'M3': 0.05, 'M4': 0.1, 'M5': 0.005}\n",
    "l5 = list(rd5.values())"
   ]
  },
  {
   "cell_type": "code",
   "execution_count": 22,
   "metadata": {},
   "outputs": [],
   "source": [
    "res_points5 = get_pseudo_first_order_concentrations_explicit(np.arange(time/2 + 1), initial_concentration_tuple=('monolinker', c_ml), rate_constants_dict=rd5, kh=kh, kon=kon, koff=koff)\n",
    "df_res5 = pd.DataFrame(res_points5)"
   ]
  },
  {
   "cell_type": "code",
   "execution_count": 23,
   "metadata": {},
   "outputs": [
    {
     "data": {
      "text/plain": [
       "<AxesSubplot:xlabel='time'>"
      ]
     },
     "execution_count": 23,
     "metadata": {},
     "output_type": "execute_result"
    },
    {
     "data": {
      "image/png": "[encoded data removed]",
      "text/plain": [
       "<Figure size 432x288 with 1 Axes>"
      ]
     },
     "metadata": {
      "needs_background": "light"
     },
     "output_type": "display_data"
    }
   ],
   "source": [
    "df_res5.plot(x='time')"
   ]
  },
  {
   "cell_type": "code",
   "execution_count": 24,
   "metadata": {},
   "outputs": [],
   "source": [
    "rr_5lys = te.loada(get_antimony_5ly_explicit(l5, c_monolinker=c_ml, kh=kh, kon=kon, koff=koff))\n",
    "results_5lys = rr_5lys.simulate(0, time/2)\n",
    "df_res_5lys = pd.DataFrame(results_5lys, columns=results_5lys.colnames)"
   ]
  },
  {
   "cell_type": "code",
   "execution_count": 25,
   "metadata": {},
   "outputs": [
    {
     "data": {
      "text/plain": [
       "<AxesSubplot:xlabel='time'>"
      ]
     },
     "execution_count": 25,
     "metadata": {},
     "output_type": "execute_result"
    },
    {
     "data": {
      "image/png": "[encoded data removed]",
      "text/plain": [
       "<Figure size 432x288 with 1 Axes>"
      ]
     },
     "metadata": {
      "needs_background": "light"
     },
     "output_type": "display_data"
    }
   ],
   "source": [
    "df_res_5lys[[col for col in df_res_5lys.columns if 'LYS' not in col]].plot('time')"
   ]
  },
  {
   "cell_type": "code",
   "execution_count": 26,
   "metadata": {},
   "outputs": [
    {
     "data": {
      "text/html": [
       "<div>\n",
       "<style scoped>\n",
       "    .dataframe tbody tr th:only-of-type {\n",
       "        vertical-align: middle;\n",
       "    }\n",
       "\n",
       "    .dataframe tbody tr th {\n",
       "        vertical-align: top;\n",
       "    }\n",
       "\n",
       "    .dataframe thead th {\n",
       "        text-align: right;\n",
       "    }\n",
       "</style>\n",
       "<table border=\"1\" class=\"dataframe\">\n",
       "  <thead>\n",
       "    <tr style=\"text-align: right;\">\n",
       "      <th></th>\n",
       "      <th>time</th>\n",
       "      <th>monolinker</th>\n",
       "      <th>monolinker_bihydrolyzed</th>\n",
       "      <th>M1</th>\n",
       "      <th>M2</th>\n",
       "      <th>M3</th>\n",
       "      <th>M4</th>\n",
       "      <th>M5</th>\n",
       "    </tr>\n",
       "  </thead>\n",
       "  <tbody>\n",
       "    <tr>\n",
       "      <th>500</th>\n",
       "      <td>500.0</td>\n",
       "      <td>0.000742</td>\n",
       "      <td>0.038327</td>\n",
       "      <td>0.034843</td>\n",
       "      <td>0.088447</td>\n",
       "      <td>0.127756</td>\n",
       "      <td>0.191635</td>\n",
       "      <td>0.018251</td>\n",
       "    </tr>\n",
       "  </tbody>\n",
       "</table>\n",
       "</div>"
      ],
      "text/plain": [
       "      time  monolinker  monolinker_bihydrolyzed        M1        M2        M3  \\\n",
       "500  500.0    0.000742                 0.038327  0.034843  0.088447  0.127756   \n",
       "\n",
       "           M4        M5  \n",
       "500  0.191635  0.018251  "
      ]
     },
     "execution_count": 26,
     "metadata": {},
     "output_type": "execute_result"
    }
   ],
   "source": [
    "df_res5.tail(1)"
   ]
  },
  {
   "cell_type": "code",
   "execution_count": 27,
   "metadata": {},
   "outputs": [
    {
     "data": {
      "text/html": [
       "<div>\n",
       "<style scoped>\n",
       "    .dataframe tbody tr th:only-of-type {\n",
       "        vertical-align: middle;\n",
       "    }\n",
       "\n",
       "    .dataframe tbody tr th {\n",
       "        vertical-align: top;\n",
       "    }\n",
       "\n",
       "    .dataframe thead th {\n",
       "        text-align: right;\n",
       "    }\n",
       "</style>\n",
       "<table border=\"1\" class=\"dataframe\">\n",
       "  <thead>\n",
       "    <tr style=\"text-align: right;\">\n",
       "      <th></th>\n",
       "      <th>time</th>\n",
       "      <th>[CrosslinkerMonoHydrolized]</th>\n",
       "      <th>[CrosslinkerBiHydrolized]</th>\n",
       "      <th>[LYS_1]</th>\n",
       "      <th>[MonoHydro_1]</th>\n",
       "      <th>[LYS_2]</th>\n",
       "      <th>[MonoHydro_2]</th>\n",
       "      <th>[LYS_3]</th>\n",
       "      <th>[MonoHydro_3]</th>\n",
       "      <th>[LYS_4]</th>\n",
       "      <th>[MonoHydro_4]</th>\n",
       "      <th>[LYS_5]</th>\n",
       "      <th>[MonoHydro_5]</th>\n",
       "    </tr>\n",
       "  </thead>\n",
       "  <tbody>\n",
       "    <tr>\n",
       "      <th>50</th>\n",
       "      <td>500.0</td>\n",
       "      <td>0.001452</td>\n",
       "      <td>0.040848</td>\n",
       "      <td>0.963547</td>\n",
       "      <td>0.036453</td>\n",
       "      <td>0.910043</td>\n",
       "      <td>0.089957</td>\n",
       "      <td>0.872704</td>\n",
       "      <td>0.127296</td>\n",
       "      <td>0.815269</td>\n",
       "      <td>0.184731</td>\n",
       "      <td>0.980737</td>\n",
       "      <td>0.019263</td>\n",
       "    </tr>\n",
       "  </tbody>\n",
       "</table>\n",
       "</div>"
      ],
      "text/plain": [
       "     time  [CrosslinkerMonoHydrolized]  [CrosslinkerBiHydrolized]   [LYS_1]  \\\n",
       "50  500.0                     0.001452                   0.040848  0.963547   \n",
       "\n",
       "    [MonoHydro_1]   [LYS_2]  [MonoHydro_2]   [LYS_3]  [MonoHydro_3]   [LYS_4]  \\\n",
       "50       0.036453  0.910043       0.089957  0.872704       0.127296  0.815269   \n",
       "\n",
       "    [MonoHydro_4]   [LYS_5]  [MonoHydro_5]  \n",
       "50       0.184731  0.980737       0.019263  "
      ]
     },
     "execution_count": 27,
     "metadata": {},
     "output_type": "execute_result"
    }
   ],
   "source": [
    "df_res_5lys.tail(1)"
   ]
  },
  {
   "cell_type": "code",
   "execution_count": 28,
   "metadata": {},
   "outputs": [],
   "source": [
    "c_ml = 1\n",
    "kh = 1e-03\n",
    "time = 500\n",
    "initial_concentration_tuple=('monolinker', c_ml)"
   ]
  },
  {
   "cell_type": "code",
   "execution_count": 29,
   "metadata": {},
   "outputs": [],
   "source": [
    "res_points_s = get_pseudo_first_order_concentrations_implicit(np.arange(time+1), initial_concentration_tuple=('monolinker', c_ml), rate_constants_dict=rd5, kh=kh)\n",
    "df_s = pd.DataFrame(res_points_s)\n",
    "o = df_s.tail(1).to_dict(orient='records')[0]\n",
    "m = {k:v for k,v in o.items() if 'M' in k} #or 'bihydro' in k\n",
    "t_eq = (c_ml, o['monolinker'])"
   ]
  },
  {
   "cell_type": "code",
   "execution_count": 30,
   "metadata": {},
   "outputs": [
    {
     "data": {
      "text/plain": [
       "{'time': 500,\n",
       " 'monolinker': 2.7487850079102147e-43,\n",
       " 'M1': 0.05102040816326531,\n",
       " 'M2': 0.1530612244897959,\n",
       " 'M3': 0.25510204081632654,\n",
       " 'M4': 0.5102040816326531,\n",
       " 'M5': 0.025510204081632654,\n",
       " 'monolinker_bihydrolyzed': 0.00510204081632653}"
      ]
     },
     "execution_count": 30,
     "metadata": {},
     "output_type": "execute_result"
    }
   ],
   "source": [
    "o"
   ]
  },
  {
   "cell_type": "code",
   "execution_count": 31,
   "metadata": {},
   "outputs": [],
   "source": [
    "rr_5lys = te.loada(get_antimony_5ly_implicit(l5, c_monolinker=c_ml, kh=kh))\n",
    "results_5lys = rr_5lys.simulate(0, time)\n",
    "df_res_5lys = pd.DataFrame(results_5lys, columns=results_5lys.colnames)\n",
    "i = df_res_5lys.tail(1).to_dict(orient='records')[0]\n",
    "n = {k:v for k,v in i.items() if 'MonoHydro_' in k} # or 'BiHydro' in k\n",
    "t_sim = (c_ml, i['[CrosslinkerMonoHydrolized]'])"
   ]
  },
  {
   "cell_type": "code",
   "execution_count": 32,
   "metadata": {},
   "outputs": [
    {
     "data": {
      "text/plain": [
       "{'time': 500.0,\n",
       " '[CrosslinkerMonoHydrolized]': 2.2676516829174582e-13,\n",
       " '[CrosslinkerBiHydrolized]': 0.006236985656475836,\n",
       " '[LYS_1]': 0.9395353499906384,\n",
       " '[MonoHydro_1]': 0.060464650009361645,\n",
       " '[LYS_2]': 0.829353033601546,\n",
       " '[MonoHydro_2]': 0.1706469663984547,\n",
       " '[LYS_3]': 0.7320923084675071,\n",
       " '[MonoHydro_3]': 0.2679076915324914,\n",
       " '[LYS_4]': 0.5359599821107254,\n",
       " '[MonoHydro_4]': 0.46404001788927346,\n",
       " '[LYS_5]': 0.9692963114863068,\n",
       " '[MonoHydro_5]': 0.03070368851369303}"
      ]
     },
     "execution_count": 32,
     "metadata": {},
     "output_type": "execute_result"
    }
   ],
   "source": [
    "i"
   ]
  },
  {
   "cell_type": "code",
   "execution_count": 33,
   "metadata": {},
   "outputs": [
    {
     "data": {
      "text/plain": [
       "0.001"
      ]
     },
     "execution_count": 33,
     "metadata": {},
     "output_type": "execute_result"
    }
   ],
   "source": [
    "kh"
   ]
  },
  {
   "cell_type": "code",
   "execution_count": 49,
   "metadata": {},
   "outputs": [
    {
     "data": {
      "text/plain": [
       "{'[MonoHydro_1]': 0.0006178424954955968,\n",
       " '[MonoHydro_2]': 0.0017437121946798748,\n",
       " '[MonoHydro_3]': 0.0027375459325948487,\n",
       " '[MonoHydro_4]': 0.00474167373197629,\n",
       " '[MonoHydro_5]': 0.0003137377546927418}"
      ]
     },
     "execution_count": 49,
     "metadata": {},
     "output_type": "execute_result"
    }
   ],
   "source": [
    "get_pseudo_first_order_constants_implicit(time, t_sim, n)"
   ]
  },
  {
   "cell_type": "code",
   "execution_count": 50,
   "metadata": {},
   "outputs": [
    {
     "data": {
      "text/plain": [
       "{'M1': 0.0005413458915614513,\n",
       " 'M2': 0.0016240376746843538,\n",
       " 'M3': 0.0027067294578072567,\n",
       " 'M4': 0.005413458915614513,\n",
       " 'M5': 0.00027067294578072567}"
      ]
     },
     "execution_count": 50,
     "metadata": {},
     "output_type": "execute_result"
    }
   ],
   "source": [
    "get_pseudo_first_order_constants_implicit(time, t_eq, m)"
   ]
  },
  {
   "cell_type": "code",
   "execution_count": 37,
   "metadata": {},
   "outputs": [
    {
     "data": {
      "text/plain": [
       "[0.01, 0.03, 0.05, 0.1, 0.005]"
      ]
     },
     "execution_count": 37,
     "metadata": {},
     "output_type": "execute_result"
    }
   ],
   "source": [
    "l5"
   ]
  },
  {
   "cell_type": "code",
   "execution_count": 223,
   "metadata": {},
   "outputs": [
    {
     "data": {
      "text/html": [
       "<div>\n",
       "<style scoped>\n",
       "    .dataframe tbody tr th:only-of-type {\n",
       "        vertical-align: middle;\n",
       "    }\n",
       "\n",
       "    .dataframe tbody tr th {\n",
       "        vertical-align: top;\n",
       "    }\n",
       "\n",
       "    .dataframe thead th {\n",
       "        text-align: right;\n",
       "    }\n",
       "</style>\n",
       "<table border=\"1\" class=\"dataframe\">\n",
       "  <thead>\n",
       "    <tr style=\"text-align: right;\">\n",
       "      <th></th>\n",
       "      <th>time</th>\n",
       "      <th>[CrosslinkerMonoHydrolized]</th>\n",
       "      <th>[CrosslinkerBiHydrolized]</th>\n",
       "      <th>[LYS_1]</th>\n",
       "      <th>[MonoHydro_1]</th>\n",
       "      <th>[LYS_2]</th>\n",
       "      <th>[MonoHydro_2]</th>\n",
       "      <th>[LYS_3]</th>\n",
       "      <th>[MonoHydro_3]</th>\n",
       "      <th>[LYS_4]</th>\n",
       "      <th>[MonoHydro_4]</th>\n",
       "      <th>[LYS_5]</th>\n",
       "      <th>[MonoHydro_5]</th>\n",
       "    </tr>\n",
       "  </thead>\n",
       "  <tbody>\n",
       "    <tr>\n",
       "      <th>0</th>\n",
       "      <td>0.0</td>\n",
       "      <td>1.000000e+00</td>\n",
       "      <td>0.000000</td>\n",
       "      <td>1.000000</td>\n",
       "      <td>0.000000</td>\n",
       "      <td>1.000000</td>\n",
       "      <td>0.000000</td>\n",
       "      <td>1.000000</td>\n",
       "      <td>0.000000</td>\n",
       "      <td>1.00000</td>\n",
       "      <td>0.00000</td>\n",
       "      <td>1.000000</td>\n",
       "      <td>0.000000</td>\n",
       "    </tr>\n",
       "    <tr>\n",
       "      <th>1</th>\n",
       "      <td>250.0</td>\n",
       "      <td>-4.703420e-15</td>\n",
       "      <td>0.006237</td>\n",
       "      <td>0.939535</td>\n",
       "      <td>0.060465</td>\n",
       "      <td>0.829353</td>\n",
       "      <td>0.170647</td>\n",
       "      <td>0.732092</td>\n",
       "      <td>0.267908</td>\n",
       "      <td>0.53596</td>\n",
       "      <td>0.46404</td>\n",
       "      <td>0.969296</td>\n",
       "      <td>0.030704</td>\n",
       "    </tr>\n",
       "    <tr>\n",
       "      <th>2</th>\n",
       "      <td>500.0</td>\n",
       "      <td>-4.703420e-15</td>\n",
       "      <td>0.006237</td>\n",
       "      <td>0.939535</td>\n",
       "      <td>0.060465</td>\n",
       "      <td>0.829353</td>\n",
       "      <td>0.170647</td>\n",
       "      <td>0.732092</td>\n",
       "      <td>0.267908</td>\n",
       "      <td>0.53596</td>\n",
       "      <td>0.46404</td>\n",
       "      <td>0.969296</td>\n",
       "      <td>0.030704</td>\n",
       "    </tr>\n",
       "  </tbody>\n",
       "</table>\n",
       "</div>"
      ],
      "text/plain": [
       "    time  [CrosslinkerMonoHydrolized]  [CrosslinkerBiHydrolized]   [LYS_1]  \\\n",
       "0    0.0                 1.000000e+00                   0.000000  1.000000   \n",
       "1  250.0                -4.703420e-15                   0.006237  0.939535   \n",
       "2  500.0                -4.703420e-15                   0.006237  0.939535   \n",
       "\n",
       "   [MonoHydro_1]   [LYS_2]  [MonoHydro_2]   [LYS_3]  [MonoHydro_3]  [LYS_4]  \\\n",
       "0       0.000000  1.000000       0.000000  1.000000       0.000000  1.00000   \n",
       "1       0.060465  0.829353       0.170647  0.732092       0.267908  0.53596   \n",
       "2       0.060465  0.829353       0.170647  0.732092       0.267908  0.53596   \n",
       "\n",
       "   [MonoHydro_4]   [LYS_5]  [MonoHydro_5]  \n",
       "0        0.00000  1.000000       0.000000  \n",
       "1        0.46404  0.969296       0.030704  \n",
       "2        0.46404  0.969296       0.030704  "
      ]
     },
     "execution_count": 223,
     "metadata": {},
     "output_type": "execute_result"
    }
   ],
   "source": [
    "rr_5lys = te.loada(get_antimony_5ly_implicit(l5, c_monolinker=c_ml, kh=kh))\n",
    "rr_5lys.resetToOrigin()\n",
    "df5 = sbml_sim_helper.sim_for_fake_t(rr_5lys, time)\n",
    "#df5 = df5.drop(labels=['[CrosslinkerMonoHydrolized]', '[CrosslinkerBiHydrolized]'], axis=1)\n",
    "df5"
   ]
  },
  {
   "cell_type": "code",
   "execution_count": 286,
   "metadata": {},
   "outputs": [
    {
     "data": {
      "text/html": [
       "<div>\n",
       "<style scoped>\n",
       "    .dataframe tbody tr th:only-of-type {\n",
       "        vertical-align: middle;\n",
       "    }\n",
       "\n",
       "    .dataframe tbody tr th {\n",
       "        vertical-align: top;\n",
       "    }\n",
       "\n",
       "    .dataframe thead th {\n",
       "        text-align: right;\n",
       "    }\n",
       "</style>\n",
       "<table border=\"1\" class=\"dataframe\">\n",
       "  <thead>\n",
       "    <tr style=\"text-align: right;\">\n",
       "      <th></th>\n",
       "      <th>time</th>\n",
       "      <th>[CrosslinkerMonoHydrolized]</th>\n",
       "      <th>[CrosslinkerBiHydrolized]</th>\n",
       "      <th>[LYS_1]</th>\n",
       "      <th>[MonoHydro_1]</th>\n",
       "      <th>[LYS_2]</th>\n",
       "      <th>[MonoHydro_2]</th>\n",
       "      <th>[LYS_3]</th>\n",
       "      <th>[MonoHydro_3]</th>\n",
       "      <th>[LYS_4]</th>\n",
       "      <th>[MonoHydro_4]</th>\n",
       "      <th>[LYS_5]</th>\n",
       "      <th>[MonoHydro_5]</th>\n",
       "    </tr>\n",
       "  </thead>\n",
       "  <tbody>\n",
       "    <tr>\n",
       "      <th>0</th>\n",
       "      <td>0.0</td>\n",
       "      <td>1.000000</td>\n",
       "      <td>0.000000</td>\n",
       "      <td>1.000000</td>\n",
       "      <td>0.000000</td>\n",
       "      <td>1.000000</td>\n",
       "      <td>0.000000</td>\n",
       "      <td>1.000000</td>\n",
       "      <td>0.000000</td>\n",
       "      <td>1.000000</td>\n",
       "      <td>0.000000</td>\n",
       "      <td>1.000000</td>\n",
       "      <td>0.000000</td>\n",
       "    </tr>\n",
       "    <tr>\n",
       "      <th>1</th>\n",
       "      <td>5.0</td>\n",
       "      <td>0.421251</td>\n",
       "      <td>0.003295</td>\n",
       "      <td>0.967589</td>\n",
       "      <td>0.032411</td>\n",
       "      <td>0.905884</td>\n",
       "      <td>0.094116</td>\n",
       "      <td>0.848114</td>\n",
       "      <td>0.151886</td>\n",
       "      <td>0.719297</td>\n",
       "      <td>0.280703</td>\n",
       "      <td>0.983661</td>\n",
       "      <td>0.016339</td>\n",
       "    </tr>\n",
       "    <tr>\n",
       "      <th>2</th>\n",
       "      <td>10.0</td>\n",
       "      <td>0.200020</td>\n",
       "      <td>0.004771</td>\n",
       "      <td>0.953408</td>\n",
       "      <td>0.046592</td>\n",
       "      <td>0.866635</td>\n",
       "      <td>0.133365</td>\n",
       "      <td>0.787759</td>\n",
       "      <td>0.212241</td>\n",
       "      <td>0.620564</td>\n",
       "      <td>0.379436</td>\n",
       "      <td>0.976426</td>\n",
       "      <td>0.023574</td>\n",
       "    </tr>\n",
       "    <tr>\n",
       "      <th>3</th>\n",
       "      <td>15.0</td>\n",
       "      <td>0.099678</td>\n",
       "      <td>0.005490</td>\n",
       "      <td>0.946582</td>\n",
       "      <td>0.053418</td>\n",
       "      <td>0.848155</td>\n",
       "      <td>0.151845</td>\n",
       "      <td>0.759962</td>\n",
       "      <td>0.240038</td>\n",
       "      <td>0.577544</td>\n",
       "      <td>0.422456</td>\n",
       "      <td>0.972925</td>\n",
       "      <td>0.027075</td>\n",
       "    </tr>\n",
       "    <tr>\n",
       "      <th>4</th>\n",
       "      <td>20.0</td>\n",
       "      <td>0.050797</td>\n",
       "      <td>0.005852</td>\n",
       "      <td>0.943161</td>\n",
       "      <td>0.056839</td>\n",
       "      <td>0.838991</td>\n",
       "      <td>0.161009</td>\n",
       "      <td>0.746327</td>\n",
       "      <td>0.253673</td>\n",
       "      <td>0.557005</td>\n",
       "      <td>0.442995</td>\n",
       "      <td>0.971165</td>\n",
       "      <td>0.028835</td>\n",
       "    </tr>\n",
       "  </tbody>\n",
       "</table>\n",
       "</div>"
      ],
      "text/plain": [
       "   time  [CrosslinkerMonoHydrolized]  [CrosslinkerBiHydrolized]   [LYS_1]  \\\n",
       "0   0.0                     1.000000                   0.000000  1.000000   \n",
       "1   5.0                     0.421251                   0.003295  0.967589   \n",
       "2  10.0                     0.200020                   0.004771  0.953408   \n",
       "3  15.0                     0.099678                   0.005490  0.946582   \n",
       "4  20.0                     0.050797                   0.005852  0.943161   \n",
       "\n",
       "   [MonoHydro_1]   [LYS_2]  [MonoHydro_2]   [LYS_3]  [MonoHydro_3]   [LYS_4]  \\\n",
       "0       0.000000  1.000000       0.000000  1.000000       0.000000  1.000000   \n",
       "1       0.032411  0.905884       0.094116  0.848114       0.151886  0.719297   \n",
       "2       0.046592  0.866635       0.133365  0.787759       0.212241  0.620564   \n",
       "3       0.053418  0.848155       0.151845  0.759962       0.240038  0.577544   \n",
       "4       0.056839  0.838991       0.161009  0.746327       0.253673  0.557005   \n",
       "\n",
       "   [MonoHydro_4]   [LYS_5]  [MonoHydro_5]  \n",
       "0       0.000000  1.000000       0.000000  \n",
       "1       0.280703  0.983661       0.016339  \n",
       "2       0.379436  0.976426       0.023574  \n",
       "3       0.422456  0.972925       0.027075  \n",
       "4       0.442995  0.971165       0.028835  "
      ]
     },
     "execution_count": 286,
     "metadata": {},
     "output_type": "execute_result"
    }
   ],
   "source": [
    "rr_5lys = te.loada(get_antimony_5ly_implicit(l5, c_monolinker=c_ml, kh=kh))\n",
    "r5 = rr_5lys.simulate(0, 20, 5)\n",
    "df5 = pd.DataFrame(r5, columns=r5.colnames)\n",
    "df5"
   ]
  },
  {
   "cell_type": "code",
   "execution_count": 287,
   "metadata": {},
   "outputs": [
    {
     "data": {
      "text/html": [
       "<div>\n",
       "<style scoped>\n",
       "    .dataframe tbody tr th:only-of-type {\n",
       "        vertical-align: middle;\n",
       "    }\n",
       "\n",
       "    .dataframe tbody tr th {\n",
       "        vertical-align: top;\n",
       "    }\n",
       "\n",
       "    .dataframe thead th {\n",
       "        text-align: right;\n",
       "    }\n",
       "</style>\n",
       "<table border=\"1\" class=\"dataframe\">\n",
       "  <thead>\n",
       "    <tr style=\"text-align: right;\">\n",
       "      <th></th>\n",
       "      <th>time</th>\n",
       "      <th>[CrosslinkerMonoHydrolized]</th>\n",
       "      <th>[CrosslinkerBiHydrolized]</th>\n",
       "      <th>[LYS_1]</th>\n",
       "      <th>[MonoHydro_1]</th>\n",
       "      <th>[LYS_2]</th>\n",
       "      <th>[MonoHydro_2]</th>\n",
       "      <th>[LYS_3]</th>\n",
       "      <th>[MonoHydro_3]</th>\n",
       "      <th>[LYS_4]</th>\n",
       "      <th>[MonoHydro_4]</th>\n",
       "      <th>[LYS_5]</th>\n",
       "      <th>[MonoHydro_5]</th>\n",
       "    </tr>\n",
       "  </thead>\n",
       "  <tbody>\n",
       "    <tr>\n",
       "      <th>0</th>\n",
       "      <td>0.0</td>\n",
       "      <td>1.000000</td>\n",
       "      <td>0.000000</td>\n",
       "      <td>1.000000</td>\n",
       "      <td>0.000000</td>\n",
       "      <td>1.000000</td>\n",
       "      <td>0.000000</td>\n",
       "      <td>1.000000</td>\n",
       "      <td>0.000000</td>\n",
       "      <td>1.000000</td>\n",
       "      <td>0.000000</td>\n",
       "      <td>1.000000</td>\n",
       "      <td>0.000000</td>\n",
       "    </tr>\n",
       "    <tr>\n",
       "      <th>1</th>\n",
       "      <td>5.0</td>\n",
       "      <td>0.421251</td>\n",
       "      <td>0.003295</td>\n",
       "      <td>0.877135</td>\n",
       "      <td>0.031710</td>\n",
       "      <td>0.987700</td>\n",
       "      <td>0.092269</td>\n",
       "      <td>0.803022</td>\n",
       "      <td>0.157689</td>\n",
       "      <td>0.760935</td>\n",
       "      <td>0.316880</td>\n",
       "      <td>0.852826</td>\n",
       "      <td>0.016438</td>\n",
       "    </tr>\n",
       "    <tr>\n",
       "      <th>2</th>\n",
       "      <td>10.0</td>\n",
       "      <td>0.200020</td>\n",
       "      <td>0.004771</td>\n",
       "      <td>0.862954</td>\n",
       "      <td>0.045891</td>\n",
       "      <td>0.948451</td>\n",
       "      <td>0.131519</td>\n",
       "      <td>0.742666</td>\n",
       "      <td>0.218045</td>\n",
       "      <td>0.662202</td>\n",
       "      <td>0.415613</td>\n",
       "      <td>0.845591</td>\n",
       "      <td>0.023673</td>\n",
       "    </tr>\n",
       "    <tr>\n",
       "      <th>3</th>\n",
       "      <td>15.0</td>\n",
       "      <td>0.099678</td>\n",
       "      <td>0.005490</td>\n",
       "      <td>0.856128</td>\n",
       "      <td>0.052717</td>\n",
       "      <td>0.929971</td>\n",
       "      <td>0.149998</td>\n",
       "      <td>0.714870</td>\n",
       "      <td>0.245841</td>\n",
       "      <td>0.619181</td>\n",
       "      <td>0.458634</td>\n",
       "      <td>0.842089</td>\n",
       "      <td>0.027174</td>\n",
       "    </tr>\n",
       "    <tr>\n",
       "      <th>4</th>\n",
       "      <td>20.0</td>\n",
       "      <td>0.050797</td>\n",
       "      <td>0.005852</td>\n",
       "      <td>0.852707</td>\n",
       "      <td>0.056138</td>\n",
       "      <td>0.920808</td>\n",
       "      <td>0.159162</td>\n",
       "      <td>0.701234</td>\n",
       "      <td>0.259477</td>\n",
       "      <td>0.598643</td>\n",
       "      <td>0.479172</td>\n",
       "      <td>0.840329</td>\n",
       "      <td>0.028934</td>\n",
       "    </tr>\n",
       "  </tbody>\n",
       "</table>\n",
       "</div>"
      ],
      "text/plain": [
       "   time  [CrosslinkerMonoHydrolized]  [CrosslinkerBiHydrolized]   [LYS_1]  \\\n",
       "0   0.0                     1.000000                   0.000000  1.000000   \n",
       "1   5.0                     0.421251                   0.003295  0.877135   \n",
       "2  10.0                     0.200020                   0.004771  0.862954   \n",
       "3  15.0                     0.099678                   0.005490  0.856128   \n",
       "4  20.0                     0.050797                   0.005852  0.852707   \n",
       "\n",
       "   [MonoHydro_1]   [LYS_2]  [MonoHydro_2]   [LYS_3]  [MonoHydro_3]   [LYS_4]  \\\n",
       "0       0.000000  1.000000       0.000000  1.000000       0.000000  1.000000   \n",
       "1       0.031710  0.987700       0.092269  0.803022       0.157689  0.760935   \n",
       "2       0.045891  0.948451       0.131519  0.742666       0.218045  0.662202   \n",
       "3       0.052717  0.929971       0.149998  0.714870       0.245841  0.619181   \n",
       "4       0.056138  0.920808       0.159162  0.701234       0.259477  0.598643   \n",
       "\n",
       "   [MonoHydro_4]   [LYS_5]  [MonoHydro_5]  \n",
       "0       0.000000  1.000000       0.000000  \n",
       "1       0.316880  0.852826       0.016438  \n",
       "2       0.415613  0.845591       0.023673  \n",
       "3       0.458634  0.842089       0.027174  \n",
       "4       0.479172  0.840329       0.028934  "
      ]
     },
     "execution_count": 287,
     "metadata": {},
     "output_type": "execute_result"
    }
   ],
   "source": [
    "df5.iloc[1:] = df5.iloc[1:].apply(lambda x: x+np.random.normal(0, x[1]*10e-2) if x.name != 'time' and 'Crosslinker' not in x.name else x)\n",
    "df5"
   ]
  },
  {
   "cell_type": "code",
   "execution_count": 288,
   "metadata": {},
   "outputs": [],
   "source": [
    "df5.to_csv('tmp_eq5.csv', index=False)"
   ]
  },
  {
   "cell_type": "code",
   "execution_count": 289,
   "metadata": {},
   "outputs": [],
   "source": [
    "stochastic_simulation_model = te.StochasticSimulationModel(model=rr_5lys.getAntimony(),#,\"../output/model_c3_antimony_asa_mono_only.txt\",\n",
    "                seed=1234, # not used\n",
    "                variable_step_size = False,\n",
    "                from_time=0,\n",
    "                to_time=20,\n",
    "                step_points=5)\n",
    "stochastic_simulation_model.integrator = \"gillespie\""
   ]
  },
  {
   "cell_type": "code",
   "execution_count": 290,
   "metadata": {},
   "outputs": [],
   "source": [
    "vars_klys = sbml_sim_helper.get_rr_const_dict(rr_5lys, 'klys')"
   ]
  },
  {
   "cell_type": "code",
   "execution_count": 291,
   "metadata": {},
   "outputs": [],
   "source": [
    "bounds = {v: (1e-5,1e0) for v in vars_klys.keys()}"
   ]
  },
  {
   "cell_type": "code",
   "execution_count": 292,
   "metadata": {},
   "outputs": [],
   "source": [
    "parameter_est = sbml_sim_helper.ParameterEstimation(stochastic_simulation_model,bounds)\n",
    "parameter_est.setDataFromFile('tmp_eq5.csv', headers=True)\n",
    "res_fit = parameter_est.run(params={'strategy': 'currenttobest1bin', 'disp': False, 'maxiter': 5000})"
   ]
  },
  {
   "cell_type": "code",
   "execution_count": 293,
   "metadata": {},
   "outputs": [
    {
     "data": {
      "text/plain": [
       "array([0.01766881, 0.01818344, 0.0551515 , 0.09791217, 0.01696398])"
      ]
     },
     "execution_count": 293,
     "metadata": {},
     "output_type": "execute_result"
    }
   ],
   "source": [
    "res_fit"
   ]
  },
  {
   "cell_type": "code",
   "execution_count": 46,
   "metadata": {},
   "outputs": [
    {
     "data": {
      "text/plain": [
       "{'klys_1': 0.01,\n",
       " 'klys_2': 0.03,\n",
       " 'klys_3': 0.05,\n",
       " 'klys_4': 0.1,\n",
       " 'klys_5': 0.005}"
      ]
     },
     "execution_count": 46,
     "metadata": {},
     "output_type": "execute_result"
    }
   ],
   "source": [
    "vars_klys"
   ]
  },
  {
   "cell_type": "code",
   "execution_count": null,
   "metadata": {},
   "outputs": [],
   "source": []
  }
 ],
 "metadata": {
  "kernelspec": {
   "display_name": "Python 3.8.5 64-bit ('te': conda)",
   "language": "python",
   "name": "python38564bitteconda37a26dd0c09747d890034224c9347118"
  },
  "language_info": {
   "codemirror_mode": {
    "name": "ipython",
    "version": 3
   },
   "file_extension": ".py",
   "mimetype": "text/x-python",
   "name": "python",
   "nbconvert_exporter": "python",
   "pygments_lexer": "ipython3",
   "version": "3.8.5"
  }
 },
 "nbformat": 4,
 "nbformat_minor": 4
}
