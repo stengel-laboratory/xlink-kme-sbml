{
 "cells": [
  {
   "cell_type": "markdown",
   "metadata": {},
   "source": [
    "# Visualize sbml/antimony models\n",
    "Using pyvipr"
   ]
  },
  {
   "cell_type": "code",
   "execution_count": 1,
   "metadata": {},
   "outputs": [
    {
     "ename": "ModuleNotFoundError",
     "evalue": "No module named 'pyvipr'",
     "output_type": "error",
     "traceback": [
      "\u001B[0;31m---------------------------------------------------------------------------\u001B[0m",
      "\u001B[0;31mModuleNotFoundError\u001B[0m                       Traceback (most recent call last)",
      "Input \u001B[0;32mIn [1]\u001B[0m, in \u001B[0;36m<cell line: 5>\u001B[0;34m()\u001B[0m\n\u001B[1;32m      3\u001B[0m \u001B[38;5;66;03m#import sbml_sim_helper\u001B[39;00m\n\u001B[1;32m      4\u001B[0m \u001B[38;5;28;01mfrom\u001B[39;00m \u001B[38;5;21;01mscipy\u001B[39;00m\u001B[38;5;21;01m.\u001B[39;00m\u001B[38;5;21;01moptimize\u001B[39;00m \u001B[38;5;28;01mimport\u001B[39;00m differential_evolution \u001B[38;5;28;01mas\u001B[39;00m diff_evol\n\u001B[0;32m----> 5\u001B[0m \u001B[38;5;28;01mimport\u001B[39;00m \u001B[38;5;21;01mpyvipr\u001B[39;00m\u001B[38;5;21;01m.\u001B[39;00m\u001B[38;5;21;01mtellurium_viz\u001B[39;00m \u001B[38;5;28;01mas\u001B[39;00m \u001B[38;5;21;01mtviz\u001B[39;00m\n",
      "\u001B[0;31mModuleNotFoundError\u001B[0m: No module named 'pyvipr'"
     ]
    }
   ],
   "source": [
    "import tellurium as te\n",
    "import pandas as pd\n",
    "#import sbml_sim_helper\n",
    "from scipy.optimize import differential_evolution as diff_evol\n",
    "import pyvipr.tellurium_viz as tviz"
   ]
  },
  {
   "cell_type": "code",
   "execution_count": 20,
   "metadata": {},
   "outputs": [
    {
     "name": "stdout",
     "output_type": "stream",
     "text": [
      "Loading model at ../output/model_example_mono_only_comp.xml\n"
     ]
    }
   ],
   "source": [
    "rr = sbml_sim_helper.load_model_path(\"../output/model_example_mono_only_comp.xml\")"
   ]
  },
  {
   "cell_type": "code",
   "execution_count": 11,
   "metadata": {},
   "outputs": [],
   "source": [
    "rr = te.loada(\"../../output/model_example_mono_only_3lys_antimony.txt\")"
   ]
  },
  {
   "cell_type": "code",
   "execution_count": 12,
   "metadata": {},
   "outputs": [
    {
     "data": {
      "application/vnd.jupyter.widget-view+json": {
       "model_id": "5a416b14166949ef9ea5a23412b5666e",
       "version_major": 2,
       "version_minor": 0
      },
      "text/plain": [
       "Viz(data=<roadrunner.RoadRunner() { this = 0x55afe9a2da80 }>, layout_name='cose-bilkent', type_of_viz='sp_view…"
      ]
     },
     "metadata": {},
     "output_type": "display_data"
    }
   ],
   "source": [
    "tviz.sp_view(rr)"
   ]
  },
  {
   "cell_type": "code",
   "execution_count": 13,
   "metadata": {},
   "outputs": [
    {
     "data": {
      "application/vnd.jupyter.widget-view+json": {
       "model_id": "191d97c8b1d4441fa81f65428e01f499",
       "version_major": 2,
       "version_minor": 0
      },
      "text/plain": [
       "Viz(data=<roadrunner.RoadRunner() { this = 0x55afe9a2da80 }>, layout_name='klay', type_of_viz='sp_comm_louvain…"
      ]
     },
     "metadata": {},
     "output_type": "display_data"
    }
   ],
   "source": [
    "tviz.sp_comm_louvain_view(rr)"
   ]
  },
  {
   "cell_type": "code",
   "execution_count": 16,
   "metadata": {},
   "outputs": [
    {
     "data": {
      "application/vnd.jupyter.widget-view+json": {
       "model_id": "3f7a2099032b40dfad681530d974b662",
       "version_major": 2,
       "version_minor": 0
      },
      "text/plain": [
       "Viz(data=<roadrunner.RoadRunner() { this = 0x55afe9a2da80 }>, layout_name='klay', type_of_viz='sp_comm_asyn_lp…"
      ]
     },
     "metadata": {},
     "output_type": "display_data"
    }
   ],
   "source": [
    "tviz.sp_comm_asyn_lpa_view(rr, 10)"
   ]
  },
  {
   "cell_type": "code",
   "execution_count": 14,
   "metadata": {},
   "outputs": [
    {
     "data": {
      "application/vnd.jupyter.widget-view+json": {
       "model_id": "498f782ea5cf4c418722bfd61588e9e8",
       "version_major": 2,
       "version_minor": 0
      },
      "text/plain": [
       "Viz(data=<roadrunner.RoadRunner() { this = 0x55afe9a2da80 }>, layout_name='cose-bilkent', process='consumption…"
      ]
     },
     "metadata": {},
     "output_type": "display_data"
    }
   ],
   "source": [
    "selections = ['time'] + rr.getFloatingSpeciesIds() + rr.getReactionIds()\n",
    "\n",
    "rr.simulate(0, 400000, selections=selections)\n",
    "tviz.sp_dyn_view(rr)"
   ]
  },
  {
   "cell_type": "code",
   "execution_count": null,
   "metadata": {},
   "outputs": [],
   "source": []
  }
 ],
 "metadata": {
  "kernelspec": {
   "display_name": "Python 3.10.7 64-bit",
   "language": "python",
   "name": "python3"
  },
  "language_info": {
   "codemirror_mode": {
    "name": "ipython",
    "version": 3
   },
   "file_extension": ".py",
   "mimetype": "text/x-python",
   "name": "python",
   "nbconvert_exporter": "python",
   "pygments_lexer": "ipython3",
   "version": "3.10.7"
  },
  "vscode": {
   "interpreter": {
    "hash": "e7370f93d1d0cde622a1f8e1c04877d8463912d04d973331ad4851f04de6915a"
   }
  }
 },
 "nbformat": 4,
 "nbformat_minor": 4
}
