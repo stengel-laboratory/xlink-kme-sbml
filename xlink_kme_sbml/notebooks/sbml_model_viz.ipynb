{
 "cells": [
  {
   "cell_type": "markdown",
   "metadata": {},
   "source": [
    "# Visualize sbml/antimony models\n",
    "Using pyvipr"
   ]
  },
  {
   "cell_type": "code",
   "execution_count": 3,
   "metadata": {},
   "outputs": [],
   "source": [
    "import tellurium as te\n",
    "import pandas as pd\n",
    "#import sbml_sim_helper\n",
    "from scipy.optimize import differential_evolution as diff_evol\n",
    "import pyvipr.tellurium_viz as tviz"
   ]
  },
  {
   "cell_type": "code",
   "execution_count": 20,
   "metadata": {},
   "outputs": [
    {
     "name": "stdout",
     "output_type": "stream",
     "text": [
      "Loading model at ../output/model_example_mono_only_comp.xml\n"
     ]
    }
   ],
   "source": [
    "rr = sbml_sim_helper.load_model_path(\"../output/model_example_mono_only_comp.xml\")"
   ]
  },
  {
   "cell_type": "code",
   "execution_count": 11,
   "metadata": {},
   "outputs": [],
   "source": [
    "rr = te.loada(\"../../output/model_example_mono_only_3lys_antimony.txt\")"
   ]
  },
  {
   "cell_type": "code",
   "execution_count": 12,
   "metadata": {},
   "outputs": [
    {
     "data": {
      "application/vnd.jupyter.widget-view+json": {
       "model_id": "5a416b14166949ef9ea5a23412b5666e",
       "version_major": 2,
       "version_minor": 0
      },
      "text/plain": [
       "Viz(data=<roadrunner.RoadRunner() { this = 0x55afe9a2da80 }>, layout_name='cose-bilkent', type_of_viz='sp_view…"
      ]
     },
     "metadata": {},
     "output_type": "display_data"
    }
   ],
   "source": [
    "tviz.sp_view(rr)"
   ]
  },
  {
   "cell_type": "code",
   "execution_count": 13,
   "metadata": {},
   "outputs": [
    {
     "data": {
      "application/vnd.jupyter.widget-view+json": {
       "model_id": "191d97c8b1d4441fa81f65428e01f499",
       "version_major": 2,
       "version_minor": 0
      },
      "text/plain": [
       "Viz(data=<roadrunner.RoadRunner() { this = 0x55afe9a2da80 }>, layout_name='klay', type_of_viz='sp_comm_louvain…"
      ]
     },
     "metadata": {},
     "output_type": "display_data"
    }
   ],
   "source": [
    "tviz.sp_comm_louvain_view(rr)"
   ]
  },
  {
   "cell_type": "code",
   "execution_count": 16,
   "metadata": {},
   "outputs": [
    {
     "data": {
      "application/vnd.jupyter.widget-view+json": {
       "model_id": "3f7a2099032b40dfad681530d974b662",
       "version_major": 2,
       "version_minor": 0
      },
      "text/plain": [
       "Viz(data=<roadrunner.RoadRunner() { this = 0x55afe9a2da80 }>, layout_name='klay', type_of_viz='sp_comm_asyn_lp…"
      ]
     },
     "metadata": {},
     "output_type": "display_data"
    }
   ],
   "source": [
    "tviz.sp_comm_asyn_lpa_view(rr, 10)"
   ]
  },
  {
   "cell_type": "code",
   "execution_count": 14,
   "metadata": {},
   "outputs": [
    {
     "data": {
      "application/vnd.jupyter.widget-view+json": {
       "model_id": "498f782ea5cf4c418722bfd61588e9e8",
       "version_major": 2,
       "version_minor": 0
      },
      "text/plain": [
       "Viz(data=<roadrunner.RoadRunner() { this = 0x55afe9a2da80 }>, layout_name='cose-bilkent', process='consumption…"
      ]
     },
     "metadata": {},
     "output_type": "display_data"
    }
   ],
   "source": [
    "selections = ['time'] + rr.getFloatingSpeciesIds() + rr.getReactionIds()\n",
    "\n",
    "rr.simulate(0, 400000, selections=selections)\n",
    "tviz.sp_dyn_view(rr)"
   ]
  },
  {
   "cell_type": "code",
   "execution_count": null,
   "metadata": {},
   "outputs": [],
   "source": []
  }
 ],
 "metadata": {
  "kernelspec": {
   "display_name": "Python 3.8.5 64-bit ('te': conda)",
   "language": "python",
   "name": "python38564bitteconda37a26dd0c09747d890034224c9347118"
  },
  "language_info": {
   "codemirror_mode": {
    "name": "ipython",
    "version": 3
   },
   "file_extension": ".py",
   "mimetype": "text/x-python",
   "name": "python",
   "nbconvert_exporter": "python",
   "pygments_lexer": "ipython3",
   "version": "3.8.5"
  }
 },
 "nbformat": 4,
 "nbformat_minor": 4
}
